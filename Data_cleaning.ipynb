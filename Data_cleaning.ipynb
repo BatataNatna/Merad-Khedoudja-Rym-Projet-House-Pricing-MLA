{
 "cells": [
  {
   "cell_type": "markdown",
   "metadata": {},
   "source": [
    "# Devoir Machine Learning Avancé: \n",
    "## Partie de nettoyage et d'import des données \n",
    "\n",
    "**Merad Khedoudja Rym**\n",
    "\n",
    "\n",
    "**IA Cheffe de projet IA sprécialité Data Science**\n",
    "**M2 E-learning**\n",
    "\n",
    "Ce devoir a pour but de prédir les prix des maisons aux états unis "
   ]
  },
  {
   "cell_type": "markdown",
   "metadata": {},
   "source": [
    "## Import des bibliothèques communes"
   ]
  },
  {
   "cell_type": "code",
   "execution_count": null,
   "metadata": {},
   "outputs": [
    {
     "data": {
      "text/plain": [
       "'ArithmeticError\\n# Charger les données depuis un fichier CSV\\n# Charger les données depuis un fichier CSV avec le paramètre quotechar\\ndonnees = pd.read_csv(\\'Data/USA_Housing.csv\\', quotechar=\\'\"\\')\\n\\n# Afficher les premières lignes des données pour vérifier\\nprint(donnees.head())\\n\\n# Séparer les features (X) et la variable cible (y)\\nX = donnees[[\\'Avg. Area Income\\', \\'Avg. Area House Age\\', \\'Avg. Area Number of Rooms\\', \\'Avg. Area Number of Bedrooms\\', \\'Area Population\\']]\\ny = donnees[\\'Price\\']\\n\\n# Ajouter une colonne de 1 pour le terme constant\\nX[\\'Ones\\'] = 1\\n\\n# Initialiser les paramètres\\ntheta = np.random.randn(X.shape[1], 1)\\n\\n# Nombre d\\'itérations et taux d\\'apprentissage\\nn_iterations = 1000\\nalpha = 0.01\\n\\n# Gradient Descent\\nfor i in range(0, n_iterations):\\n    theta = theta - alpha * (1/len(y)) * X.T.dot(X.dot(theta) - y.values.reshape(-1, 1))\\n\\n# Afficher les paramètres finaux\\nprint(\\'Paramètres finaux:\\')\\nprint(theta)\\n\\n# Prédiction avec les paramètres finaux\\npredictions = X.dot(theta)\\n\\n# Tracer les prédictions par rapport aux vraies valeurs\\nplt.scatter(y, predictions)\\nplt.xlabel(\\'Vraies Valeurs\\')\\nplt.ylabel(\\'Prédictions\\')\\nplt.title(\\'Prédictions vs Vraies Valeurs\\')\\nplt.show()\\n'"
      ]
     },
     "execution_count": 13,
     "metadata": {},
     "output_type": "execute_result"
    }
   ],
   "source": [
    "import pandas as pd"
   ]
  },
  {
   "cell_type": "markdown",
   "metadata": {},
   "source": [
    "## Import des données et leur nettoyage \n",
    "\n",
    "Le nettoyage fut un long combat mais qui a bien payé! \n",
    "\n",
    "Le csv présentait plusieurs anomalies: notament la presence deux ç\"couches\" de guillemets (\" \" \" \")\n",
    "Le nettoyage s'est effectué en deux temps en lever couche par couche les guillemets mais il existe plusieurs méthodes "
   ]
  },
  {
   "cell_type": "code",
   "execution_count": 20,
   "metadata": {},
   "outputs": [
    {
     "name": "stdout",
     "output_type": "stream",
     "text": [
      "                                    Avg. Area Income  Avg. Area House Age  \\\n",
      "0  79545.45857431678,5.682861321615587,7.00918814...                  NaN   \n",
      "1                           Laurabury, NE 37010-5101                  NaN   \n",
      "2  79248.64245482568,6.0028998082752425,6.7308210...                  NaN   \n",
      "3                            Lake Kathleen, CA 48958                  NaN   \n",
      "4  61287.067178656784,5.865889840310001,8.5127274...                  NaN   \n",
      "\n",
      "   Avg. Area Number of Rooms  Avg. Area Number of Bedrooms  Area Population  \\\n",
      "0                        NaN                           NaN              NaN   \n",
      "1                        NaN                           NaN              NaN   \n",
      "2                        NaN                           NaN              NaN   \n",
      "3                        NaN                           NaN              NaN   \n",
      "4                        NaN                           NaN              NaN   \n",
      "\n",
      "   Price  Address  \n",
      "0    NaN      NaN  \n",
      "1    NaN      NaN  \n",
      "2    NaN      NaN  \n",
      "3    NaN      NaN  \n",
      "4    NaN      NaN  \n"
     ]
    }
   ],
   "source": [
    "# Lecture du csv initial USA_Housing.csv present dans le repertoire Data\n",
    "with open('Data/USA_Housing.csv', 'r') as file:\n",
    "    contenu = file.read()\n",
    "\n",
    "# Supprimer les guillemets doubles ici nous parlons de la première couche \n",
    "contenu = contenu.replace('\"\"', '')\n",
    "\n",
    "# Écrire le contenu modifié dans un nouveau fichier CSV\n",
    "with open('Data/data.csv', 'w') as file:\n",
    "    file.write(contenu)\n",
    "\n",
    "# Charger les données depuis le nouveau fichier CSV avec pandas\n",
    "donnees = pd.read_csv('Data/data.csv')\n",
    "\n",
    "# Afficher les premières lignes des données pour vérifier\n",
    "print(donnees.head())\n",
    "\n",
    "\n"
   ]
  }
 ],
 "metadata": {
  "kernelspec": {
   "display_name": "base",
   "language": "python",
   "name": "python3"
  },
  "language_info": {
   "codemirror_mode": {
    "name": "ipython",
    "version": 3
   },
   "file_extension": ".py",
   "mimetype": "text/x-python",
   "name": "python",
   "nbconvert_exporter": "python",
   "pygments_lexer": "ipython3",
   "version": "3.11.4"
  }
 },
 "nbformat": 4,
 "nbformat_minor": 2
}
